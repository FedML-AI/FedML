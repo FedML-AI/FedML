{
 "cells": [
  {
   "cell_type": "markdown",
   "metadata": {},
   "source": [
    "# Modified Federated Averaging"
   ]
  },
  {
   "cell_type": "markdown",
   "metadata": {},
   "source": [
    "## Dependency"
   ]
  },
  {
   "cell_type": "code",
   "execution_count": 4,
   "metadata": {},
   "outputs": [],
   "source": [
    "import argparse\n",
    "import logging\n",
    "import os\n",
    "import sys\n",
    "\n",
    "import numpy as np\n",
    "import torch\n",
    "import wandb\n",
    "\n",
    "sys.path.insert(0, os.path.abspath(os.path.join(os.getcwd(), \"../\")))\n",
    "\n",
    "from fedml_api.data_preprocessing.fed_cifar100.data_loader import load_partition_data_federated_cifar100\n",
    "from fedml_api.data_preprocessing.shakespeare.data_loader import load_partition_data_shakespeare\n",
    "from fedml_api.data_preprocessing.fed_shakespeare.data_loader import load_partition_data_federated_shakespeare\n",
    "from fedml_api.data_preprocessing.stackoverflow_lr.data_loader import load_partition_data_federated_stackoverflow_lr\n",
    "from fedml_api.data_preprocessing.stackoverflow_nwp.data_loader import load_partition_data_federated_stackoverflow_nwp\n",
    "\n",
    "from fedml_api.model.cv.cnn import CNN_DropOut\n",
    "from fedml_api.data_preprocessing.FederatedEMNIST.data_loader import load_partition_data_federated_emnist\n",
    "from fedml_api.model.nlp.rnn import RNN_OriginalFedAvg, RNN_StackOverFlow\n",
    "\n",
    "from fedml_api.data_preprocessing.MNIST.data_loader import load_partition_data_mnist\n",
    "from fedml_api.model.linear.lr import LogisticRegression\n",
    "from fedml_api.model.cv.resnet_gn import resnet18\n",
    "\n",
    "from fedml_api.standalone.fedavg.fedavg_trainer import FedAvgTrainer"
   ]
  },
  {
   "cell_type": "code",
   "execution_count": 9,
   "metadata": {},
   "outputs": [
    {
     "name": "stdout",
     "output_type": "stream",
     "text": [
      "Namespace(batch_size=10, ci=0, client_num_in_total=1000, client_num_per_round=10, client_optimizer='sgd', comm_round=200, data_dir='./../../../data/mnist', dataset='mnist', epochs=20, frequency_of_the_test=5, gpu=0, lr=0.03, model='lr', partition_alpha=0.5, partition_method='hetero', wd=0.001)\n"
     ]
    }
   ],
   "source": [
    "%%bash \n",
    "sh ./run_parse.sh 0 10 10 mnist ./../../../data/mnist lr hetero 200 20 0.03 sgd 0"
   ]
  },
  {
   "cell_type": "code",
   "execution_count": 10,
   "metadata": {},
   "outputs": [
    {
     "ename": "FileNotFoundError",
     "evalue": "[Errno 2] No such file or directory: './../../../data/MNIST/train'",
     "output_type": "error",
     "traceback": [
      "\u001b[0;31m---------------------------------------------------------------------------\u001b[0m",
      "\u001b[0;31mFileNotFoundError\u001b[0m                         Traceback (most recent call last)",
      "\u001b[0;32m<ipython-input-10-80182595f049>\u001b[0m in \u001b[0;36m<module>\u001b[0;34m\u001b[0m\n\u001b[0;32m----> 1\u001b[0;31m \u001b[0mclient_num\u001b[0m\u001b[0;34m,\u001b[0m \u001b[0mtrain_data_num\u001b[0m\u001b[0;34m,\u001b[0m \u001b[0mtest_data_num\u001b[0m\u001b[0;34m,\u001b[0m \u001b[0mtrain_data_global\u001b[0m\u001b[0;34m,\u001b[0m \u001b[0mtest_data_global\u001b[0m\u001b[0;34m,\u001b[0m \u001b[0mtrain_data_local_num_dict\u001b[0m\u001b[0;34m,\u001b[0m \u001b[0mtrain_data_local_dict\u001b[0m\u001b[0;34m,\u001b[0m \u001b[0mtest_data_local_dict\u001b[0m\u001b[0;34m,\u001b[0m \u001b[0mclass_num\u001b[0m \u001b[0;34m=\u001b[0m \u001b[0mload_partition_data_mnist\u001b[0m\u001b[0;34m(\u001b[0m\u001b[0;36m10\u001b[0m\u001b[0;34m)\u001b[0m\u001b[0;34m\u001b[0m\u001b[0;34m\u001b[0m\u001b[0m\n\u001b[0m\u001b[1;32m      2\u001b[0m \u001b[0mdataset\u001b[0m \u001b[0;34m=\u001b[0m \u001b[0;34m[\u001b[0m\u001b[0mtrain_data_num\u001b[0m\u001b[0;34m,\u001b[0m \u001b[0mtest_data_num\u001b[0m\u001b[0;34m,\u001b[0m \u001b[0mtrain_data_global\u001b[0m\u001b[0;34m,\u001b[0m \u001b[0mtest_data_global\u001b[0m\u001b[0;34m,\u001b[0m \u001b[0mtrain_data_local_num_dict\u001b[0m\u001b[0;34m,\u001b[0m \u001b[0mtrain_data_local_dict\u001b[0m\u001b[0;34m,\u001b[0m \u001b[0mtest_data_local_dict\u001b[0m\u001b[0;34m,\u001b[0m \u001b[0mclass_num\u001b[0m\u001b[0;34m]\u001b[0m\u001b[0;34m\u001b[0m\u001b[0;34m\u001b[0m\u001b[0m\n\u001b[1;32m      3\u001b[0m \u001b[0mdataset\u001b[0m\u001b[0;34m\u001b[0m\u001b[0;34m\u001b[0m\u001b[0m\n",
      "\u001b[0;32m~/FedML/fedml_api/data_preprocessing/MNIST/data_loader.py\u001b[0m in \u001b[0;36mload_partition_data_mnist\u001b[0;34m(batch_size)\u001b[0m\n\u001b[1;32m     81\u001b[0m     \u001b[0mtrain_path\u001b[0m \u001b[0;34m=\u001b[0m \u001b[0;34m\"./../../../data/MNIST/train\"\u001b[0m\u001b[0;34m\u001b[0m\u001b[0;34m\u001b[0m\u001b[0m\n\u001b[1;32m     82\u001b[0m     \u001b[0mtest_path\u001b[0m \u001b[0;34m=\u001b[0m \u001b[0;34m\"./../../../data/MNIST/test\"\u001b[0m\u001b[0;34m\u001b[0m\u001b[0;34m\u001b[0m\u001b[0m\n\u001b[0;32m---> 83\u001b[0;31m     \u001b[0musers\u001b[0m\u001b[0;34m,\u001b[0m \u001b[0mgroups\u001b[0m\u001b[0;34m,\u001b[0m \u001b[0mtrain_data\u001b[0m\u001b[0;34m,\u001b[0m \u001b[0mtest_data\u001b[0m \u001b[0;34m=\u001b[0m \u001b[0mread_data\u001b[0m\u001b[0;34m(\u001b[0m\u001b[0mtrain_path\u001b[0m\u001b[0;34m,\u001b[0m \u001b[0mtest_path\u001b[0m\u001b[0;34m)\u001b[0m\u001b[0;34m\u001b[0m\u001b[0;34m\u001b[0m\u001b[0m\n\u001b[0m\u001b[1;32m     84\u001b[0m \u001b[0;34m\u001b[0m\u001b[0m\n\u001b[1;32m     85\u001b[0m     \u001b[0;32mif\u001b[0m \u001b[0mlen\u001b[0m\u001b[0;34m(\u001b[0m\u001b[0mgroups\u001b[0m\u001b[0;34m)\u001b[0m \u001b[0;34m==\u001b[0m \u001b[0;36m0\u001b[0m\u001b[0;34m:\u001b[0m\u001b[0;34m\u001b[0m\u001b[0;34m\u001b[0m\u001b[0m\n",
      "\u001b[0;32m~/FedML/fedml_api/data_preprocessing/MNIST/data_loader.py\u001b[0m in \u001b[0;36mread_data\u001b[0;34m(train_data_dir, test_data_dir)\u001b[0m\n\u001b[1;32m     28\u001b[0m     \u001b[0mtest_data\u001b[0m \u001b[0;34m=\u001b[0m \u001b[0;34m{\u001b[0m\u001b[0;34m}\u001b[0m\u001b[0;34m\u001b[0m\u001b[0;34m\u001b[0m\u001b[0m\n\u001b[1;32m     29\u001b[0m \u001b[0;34m\u001b[0m\u001b[0m\n\u001b[0;32m---> 30\u001b[0;31m     \u001b[0mtrain_files\u001b[0m \u001b[0;34m=\u001b[0m \u001b[0mos\u001b[0m\u001b[0;34m.\u001b[0m\u001b[0mlistdir\u001b[0m\u001b[0;34m(\u001b[0m\u001b[0mtrain_data_dir\u001b[0m\u001b[0;34m)\u001b[0m\u001b[0;34m\u001b[0m\u001b[0;34m\u001b[0m\u001b[0m\n\u001b[0m\u001b[1;32m     31\u001b[0m     \u001b[0mtrain_files\u001b[0m \u001b[0;34m=\u001b[0m \u001b[0;34m[\u001b[0m\u001b[0mf\u001b[0m \u001b[0;32mfor\u001b[0m \u001b[0mf\u001b[0m \u001b[0;32min\u001b[0m \u001b[0mtrain_files\u001b[0m \u001b[0;32mif\u001b[0m \u001b[0mf\u001b[0m\u001b[0;34m.\u001b[0m\u001b[0mendswith\u001b[0m\u001b[0;34m(\u001b[0m\u001b[0;34m'.json'\u001b[0m\u001b[0;34m)\u001b[0m\u001b[0;34m]\u001b[0m\u001b[0;34m\u001b[0m\u001b[0;34m\u001b[0m\u001b[0m\n\u001b[1;32m     32\u001b[0m     \u001b[0;32mfor\u001b[0m \u001b[0mf\u001b[0m \u001b[0;32min\u001b[0m \u001b[0mtrain_files\u001b[0m\u001b[0;34m:\u001b[0m\u001b[0;34m\u001b[0m\u001b[0;34m\u001b[0m\u001b[0m\n",
      "\u001b[0;31mFileNotFoundError\u001b[0m: [Errno 2] No such file or directory: './../../../data/MNIST/train'"
     ]
    }
   ],
   "source": [
    "client_num, train_data_num, test_data_num, train_data_global, test_data_global, train_data_local_num_dict, train_data_local_dict, test_data_local_dict, class_num = load_partition_data_mnist(10)\n",
    "dataset = [train_data_num, test_data_num, train_data_global, test_data_global, train_data_local_num_dict, train_data_local_dict, test_data_local_dict, class_num]\n",
    "dataset"
   ]
  },
  {
   "cell_type": "code",
   "execution_count": null,
   "metadata": {},
   "outputs": [],
   "source": []
  }
 ],
 "metadata": {
  "kernelspec": {
   "display_name": "fedml",
   "language": "python",
   "name": "fedml"
  },
  "language_info": {
   "codemirror_mode": {
    "name": "ipython",
    "version": 3
   },
   "file_extension": ".py",
   "mimetype": "text/x-python",
   "name": "python",
   "nbconvert_exporter": "python",
   "pygments_lexer": "ipython3",
   "version": "3.7.4"
  }
 },
 "nbformat": 4,
 "nbformat_minor": 4
}
